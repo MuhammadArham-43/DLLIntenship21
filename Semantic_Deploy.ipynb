{
 "cells": [
  {
   "cell_type": "code",
   "execution_count": 27,
   "id": "a6ffd22f",
   "metadata": {
    "scrolled": true
   },
   "outputs": [],
   "source": [
    "# !pip install ipywidgets"
   ]
  },
  {
   "cell_type": "code",
   "execution_count": 2,
   "id": "28e2ba15",
   "metadata": {},
   "outputs": [],
   "source": [
    "import ipywidgets"
   ]
  },
  {
   "cell_type": "code",
   "execution_count": 28,
   "id": "8c1bb877",
   "metadata": {
    "scrolled": true
   },
   "outputs": [],
   "source": [
    "# !pip install voila"
   ]
  },
  {
   "cell_type": "code",
   "execution_count": 29,
   "id": "8305e64c",
   "metadata": {
    "scrolled": true
   },
   "outputs": [],
   "source": [
    "# !pip install widgetsnbextension "
   ]
  },
  {
   "cell_type": "code",
   "execution_count": 30,
   "id": "5f506552",
   "metadata": {},
   "outputs": [],
   "source": [
    "# !jupyter nbextension enable --py widgetsnbextension --sys-prefix\n",
    "# !jupyter serverextension enable voila --sys-prefix"
   ]
  },
  {
   "cell_type": "code",
   "execution_count": 6,
   "id": "c0a540b8",
   "metadata": {},
   "outputs": [],
   "source": [
    "import ipywidgets as widgets\n",
    "from IPython.display import display, clear_output"
   ]
  },
  {
   "cell_type": "code",
   "execution_count": 7,
   "id": "2922c176",
   "metadata": {},
   "outputs": [],
   "source": [
    "query = widgets.Text()"
   ]
  },
  {
   "cell_type": "code",
   "execution_count": 8,
   "id": "f0dad7a9",
   "metadata": {},
   "outputs": [],
   "source": [
    "num_results = widgets.IntSlider(value=3, min=1, max=5, step=1)"
   ]
  },
  {
   "cell_type": "code",
   "execution_count": 9,
   "id": "e5197485",
   "metadata": {},
   "outputs": [],
   "source": [
    "search_button = widgets.Button(description='Search Database', tooltip='Search')"
   ]
  },
  {
   "cell_type": "code",
   "execution_count": 10,
   "id": "56939f4e",
   "metadata": {},
   "outputs": [],
   "source": [
    "output = widgets.Output()"
   ]
  },
  {
   "cell_type": "code",
   "execution_count": 11,
   "id": "43e2f195",
   "metadata": {},
   "outputs": [],
   "source": [
    "from sentence_transformers import SentenceTransformer, util"
   ]
  },
  {
   "cell_type": "code",
   "execution_count": 12,
   "id": "1089aeec",
   "metadata": {},
   "outputs": [],
   "source": [
    "from pathlib import Path"
   ]
  },
  {
   "cell_type": "code",
   "execution_count": 13,
   "id": "d625b5af",
   "metadata": {},
   "outputs": [],
   "source": [
    "import os\n",
    "path = os.path.abspath('E:\\\\DLL Internship\\\\dataset\\\\ref-summary')\n",
    "# path"
   ]
  },
  {
   "cell_type": "code",
   "execution_count": 14,
   "id": "f92812bf",
   "metadata": {},
   "outputs": [],
   "source": [
    "path = Path(path)"
   ]
  },
  {
   "cell_type": "code",
   "execution_count": 15,
   "id": "3b8e6362",
   "metadata": {},
   "outputs": [],
   "source": [
    "# path.exists()"
   ]
  },
  {
   "cell_type": "code",
   "execution_count": 16,
   "id": "54051976",
   "metadata": {},
   "outputs": [],
   "source": [
    "files = Path(path).glob('*')"
   ]
  },
  {
   "cell_type": "code",
   "execution_count": 17,
   "id": "9bf21993",
   "metadata": {},
   "outputs": [],
   "source": [
    "corpus = []\n",
    "for file in files:\n",
    "#     print(file)\n",
    "    text = file.read_text()\n",
    "    corpus.append(text)"
   ]
  },
  {
   "cell_type": "code",
   "execution_count": 18,
   "id": "d9642602",
   "metadata": {},
   "outputs": [],
   "source": [
    "# corpus"
   ]
  },
  {
   "cell_type": "code",
   "execution_count": 19,
   "id": "1348629b",
   "metadata": {},
   "outputs": [],
   "source": [
    "model = SentenceTransformer('sentence-transformers/msmarco-distilbert-base-tas-b')"
   ]
  },
  {
   "cell_type": "code",
   "execution_count": 20,
   "id": "cc044ed4",
   "metadata": {},
   "outputs": [],
   "source": [
    "corpus_embeddings = model.encode(corpus, convert_to_tensor=True)"
   ]
  },
  {
   "cell_type": "code",
   "execution_count": 21,
   "id": "75062e35",
   "metadata": {},
   "outputs": [],
   "source": [
    "import torch\n",
    "from sentence_transformers import util"
   ]
  },
  {
   "cell_type": "code",
   "execution_count": 22,
   "id": "f2462ccf",
   "metadata": {},
   "outputs": [],
   "source": [
    "def onClick(event):\n",
    "    with output:\n",
    "        clear_output()\n",
    "        query_embedding = model.encode(query.value, convert_to_tensor=True)\n",
    "        top_k = min(num_results.value, len(corpus))\n",
    "        # DotProduct and torch.topk to find the highest 5 scores\n",
    "        dot_scores = util.dot_score(query_embedding, corpus_embeddings)[0]\n",
    "        top_results = torch.topk(dot_scores, k=top_k)\n",
    "\n",
    "        # Using CosineSimiliarity\n",
    "        # cosine_scores = util.cos_sim(query_embedding, corpus_embeddings)[0]\n",
    "        # top_results = torch.topk(cosine_scores, k=top_k)\n",
    "\n",
    "        print(\"\\n\\n======================\\n\\n\")\n",
    "        print(\"Query:\", query)\n",
    "        print(\"\\nTop 5 most similar sentences in corpus:\")\n",
    "\n",
    "        for score, idx in zip(top_results[0], top_results[1]):\n",
    "            print(corpus[idx], \"(Score: {:.4f})\".format(score))"
   ]
  },
  {
   "cell_type": "code",
   "execution_count": 23,
   "id": "b0923f33",
   "metadata": {},
   "outputs": [],
   "source": [
    "search_button.on_click(onClick)"
   ]
  },
  {
   "cell_type": "code",
   "execution_count": 24,
   "id": "655a1627",
   "metadata": {},
   "outputs": [],
   "source": [
    "vbox_result = widgets.VBox([query,num_results,search_button, output])"
   ]
  },
  {
   "cell_type": "code",
   "execution_count": 31,
   "id": "3ff58013",
   "metadata": {
    "scrolled": false
   },
   "outputs": [
    {
     "data": {
      "application/vnd.jupyter.widget-view+json": {
       "model_id": "7d4add463db7459b9a392724b1cf8195",
       "version_major": 2,
       "version_minor": 0
      },
      "text/plain": [
       "VBox(children=(Text(value=''), IntSlider(value=3, max=5, min=1), Button(description='Search Database', style=B…"
      ]
     },
     "metadata": {},
     "output_type": "display_data"
    }
   ],
   "source": [
    "vbox_result"
   ]
  },
  {
   "cell_type": "code",
   "execution_count": 32,
   "id": "f88fd062",
   "metadata": {},
   "outputs": [
    {
     "name": "stdout",
     "output_type": "stream",
     "text": [
      "^C\n"
     ]
    }
   ],
   "source": [
    "import voila\n",
    "!voila Semantic_Deploy.ipynb"
   ]
  },
  {
   "cell_type": "code",
   "execution_count": 33,
   "id": "405d2e89",
   "metadata": {},
   "outputs": [],
   "source": [
    "!pip freeze > requirements.txt"
   ]
  },
  {
   "cell_type": "code",
   "execution_count": 49,
   "id": "01bf09ce",
   "metadata": {},
   "outputs": [
    {
     "name": "stderr",
     "output_type": "stream",
     "text": [
      "Cloning into 'SemanticDeploy'...\n",
      "remote: Not Found\n",
      "fatal: repository 'https://github.com/MuhammadArham-43/DLLInternship21/SemanticDeploy/' not found\n",
      "Cloning into 'DLLInternship21'...\n"
     ]
    }
   ],
   "source": [
    "!git clone https://github.com/MuhammadArham-43/DLLInternship21/SemanticDeploy"
   ]
  },
  {
   "cell_type": "code",
   "execution_count": 51,
   "id": "990fc4ad",
   "metadata": {},
   "outputs": [
    {
     "name": "stderr",
     "output_type": "stream",
     "text": [
      "fatal: Unable to create 'E:/.git/index.lock': File exists.\n",
      "\n",
      "Another git process seems to be running in this repository, e.g.\n",
      "an editor opened by 'git commit'. Please make sure all processes\n",
      "are terminated then try again. If it still fails, a git process\n",
      "may have crashed in this repository earlier:\n",
      "remove the file manually to continue.\n",
      "fatal: Unable to create 'E:/.git/index.lock': File exists.\n",
      "\n",
      "Another git process seems to be running in this repository, e.g.\n",
      "an editor opened by 'git commit'. Please make sure all processes\n",
      "are terminated then try again. If it still fails, a git process\n",
      "may have crashed in this repository earlier:\n",
      "remove the file manually to continue.\n",
      "error: pathspec 'messageâ€�' did not match any file(s) known to git\n",
      "error: src refspec branch_name does not match any\n",
      "error: failed to push some refs to 'origin'\n"
     ]
    }
   ],
   "source": [
    "!git add notebook.ipynb\n",
    "!git add requirements.txt\n",
    "!git commit -m “commit message”\n",
    "!git push origin branch_name"
   ]
  }
 ],
 "metadata": {
  "kernelspec": {
   "display_name": "Python 3",
   "language": "python",
   "name": "python3"
  },
  "language_info": {
   "codemirror_mode": {
    "name": "ipython",
    "version": 3
   },
   "file_extension": ".py",
   "mimetype": "text/x-python",
   "name": "python",
   "nbconvert_exporter": "python",
   "pygments_lexer": "ipython3",
   "version": "3.8.8"
  }
 },
 "nbformat": 4,
 "nbformat_minor": 5
}
